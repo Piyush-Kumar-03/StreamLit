{
 "cells": [
  {
   "cell_type": "code",
   "execution_count": 4,
   "id": "608d2acb",
   "metadata": {},
   "outputs": [
    {
     "name": "stdout",
     "output_type": "stream",
     "text": [
      "Predicted House Values:\n",
      "[194396.9708832  238526.82203164 198562.30656806 197192.78393233\n",
      " 199697.662121  ]\n",
      "Mean Absolute Error (MAE): 89931.67504919827\n",
      "Root Mean Squared Error (RMSE): 114349.7403659444\n",
      "R-squared (R²): 0.017997057943996753\n"
     ]
    }
   ],
   "source": [
    "import pandas as pd\n",
    "from sklearn.linear_model import LinearRegression\n",
    "from sklearn.metrics import mean_absolute_error, mean_squared_error, r2_score\n",
    "import numpy as np\n",
    "df = pd.read_csv('housing.csv')\n",
    "# Independent variable\n",
    "X = df[['total_rooms']]\n",
    "# Dependent variable\n",
    "y = df['median_house_value']\n",
    "\n",
    "# Initialize the model\n",
    "model = LinearRegression()\n",
    "# Train the model\n",
    "model.fit(X, y)\n",
    "\n",
    "# Make predictions\n",
    "y_pred = model.predict(X)\n",
    "# Display the first few predicted values\n",
    "print(\"Predicted House Values:\")\n",
    "print(y_pred[:5])\n",
    "\n",
    "# Calculate evaluation metrics\n",
    "mae = mean_absolute_error(y, y_pred)\n",
    "rmse = np.sqrt(mean_squared_error(y, y_pred))\n",
    "r2 = r2_score(y, y_pred)\n",
    "\n",
    "# Print the results\n",
    "print(\"Mean Absolute Error (MAE):\", mae)\n",
    "print(\"Root Mean Squared Error (RMSE):\", rmse)\n",
    "print(\"R-squared (R²):\", r2)"
   ]
  }
 ],
 "metadata": {
  "kernelspec": {
   "display_name": "base",
   "language": "python",
   "name": "python3"
  },
  "language_info": {
   "codemirror_mode": {
    "name": "ipython",
    "version": 3
   },
   "file_extension": ".py",
   "mimetype": "text/x-python",
   "name": "python",
   "nbconvert_exporter": "python",
   "pygments_lexer": "ipython3",
   "version": "3.12.7"
  }
 },
 "nbformat": 4,
 "nbformat_minor": 5
}
